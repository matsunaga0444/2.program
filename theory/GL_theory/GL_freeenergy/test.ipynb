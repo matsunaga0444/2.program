{
 "cells": [
  {
   "cell_type": "code",
   "execution_count": null,
   "metadata": {},
   "outputs": [],
   "source": [
    "qs   = 0.001\n",
    "b   =  1\n",
    "ds  =  linspace(0.0,1,n_d)\n",
    "e_ds = -1 * linspace(b,(1/2)*b,n_e_d)\n",
    "\n",
    "\n",
    "\n",
    "def free_energy(b, d, e_d, q, delta):              #vn0 = (v / n^2) * n0\n",
    "    return  -1 * (delta**2) + b * (delta**4) \\\n",
    "            + d * (q**2)*(delta**2) + e_d * d * (q**2)*(delta**4)\\\n",
    "\n",
    "\n"
   ]
  }
 ],
 "metadata": {
  "language_info": {
   "name": "python"
  }
 },
 "nbformat": 4,
 "nbformat_minor": 2
}
