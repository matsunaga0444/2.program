{
 "cells": [
  {
   "cell_type": "code",
   "execution_count": 5,
   "metadata": {},
   "outputs": [
    {
     "name": "stdout",
     "output_type": "stream",
     "text": [
      "-6.512888681138865e+17\n",
      "nan\n"
     ]
    },
    {
     "name": "stderr",
     "output_type": "stream",
     "text": [
      "/var/folders/vf/842hmrqn18z65j0fs1m3p8200000gn/T/ipykernel_64753/852340851.py:3: RuntimeWarning: invalid value encountered in sqrt\n",
      "  c = sqrt(-1*(d/a) + (e/(2*b)) )\n"
     ]
    }
   ],
   "source": [
    "from numpy import *\n",
    "a, b, d, e = -0.9969870351208229, 1.6462020448307026, 1.615172981612311e+16, -2.1976448619480512e+18\n",
    "c = sqrt(-1*(d/a) + (e/(2*b)))\n",
    "print(-1*(d/a) + (e/(2*b)))\n",
    "print(c)"
   ]
  },
  {
   "cell_type": "code",
   "execution_count": 12,
   "metadata": {},
   "outputs": [
    {
     "name": "stdout",
     "output_type": "stream",
     "text": [
      "-1.8181818236607966e-13\n"
     ]
    }
   ],
   "source": [
    "x = 0.0001\n",
    "y = 1\n",
    "a = 2*x*(5+x**2-5*y**2)/((-11+10*x**2)*y)\n",
    "print(a)\n"
   ]
  }
 ],
 "metadata": {
  "kernelspec": {
   "display_name": "Python 3",
   "language": "python",
   "name": "python3"
  },
  "language_info": {
   "codemirror_mode": {
    "name": "ipython",
    "version": 3
   },
   "file_extension": ".py",
   "mimetype": "text/x-python",
   "name": "python",
   "nbconvert_exporter": "python",
   "pygments_lexer": "ipython3",
   "version": "3.11.3"
  }
 },
 "nbformat": 4,
 "nbformat_minor": 2
}
