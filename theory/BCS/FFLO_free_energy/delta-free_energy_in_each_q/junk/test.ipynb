{
 "cells": [
  {
   "cell_type": "code",
   "execution_count": 9,
   "metadata": {},
   "outputs": [
    {
     "name": "stdout",
     "output_type": "stream",
     "text": [
      "[-1  1]\n",
      "kxは (10, 10, 2)\n",
      "yは (10, 10, 2)\n",
      "<class 'numpy.ndarray'>\n",
      "<class 'numpy.float64'>\n"
     ]
    }
   ],
   "source": [
    "from numpy import *\n",
    "N=10\n",
    "y = -1 + 2 * arange(2)\n",
    "print(y)\n",
    "k1 = -1 + 2 * arange(N)  / (N)\n",
    "kx, ky, y = meshgrid(k1, k1, y, indexing='ij')\n",
    "print(\"kxは\", shape(kx))\n",
    "print(\"yは\", shape(y))\n",
    "print(type( exp(kx + ky + y)))\n",
    "f = exp(kx + ky + y)\n",
    "print(type(sum(f)))\n"
   ]
  }
 ],
 "metadata": {
  "kernelspec": {
   "display_name": "Python 3",
   "language": "python",
   "name": "python3"
  },
  "language_info": {
   "codemirror_mode": {
    "name": "ipython",
    "version": 3
   },
   "file_extension": ".py",
   "mimetype": "text/x-python",
   "name": "python",
   "nbconvert_exporter": "python",
   "pygments_lexer": "ipython3",
   "version": "3.11.3"
  },
  "orig_nbformat": 4
 },
 "nbformat": 4,
 "nbformat_minor": 2
}
