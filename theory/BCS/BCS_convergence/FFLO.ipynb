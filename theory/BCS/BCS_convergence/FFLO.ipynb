{
 "cells": [
  {
   "cell_type": "code",
   "execution_count": 14,
   "metadata": {},
   "outputs": [
    {
     "name": "stderr",
     "output_type": "stream",
     "text": [
      "/var/folders/vf/842hmrqn18z65j0fs1m3p8200000gn/T/ipykernel_49674/736285137.py:43: RuntimeWarning: divide by zero encountered in scalar divide\n",
      "  return (V / (N**2)) * sum(f)\n",
      "/var/folders/vf/842hmrqn18z65j0fs1m3p8200000gn/T/ipykernel_49674/736285137.py:43: RuntimeWarning: invalid value encountered in scalar multiply\n",
      "  return (V / (N**2)) * sum(f)\n",
      "/var/folders/vf/842hmrqn18z65j0fs1m3p8200000gn/T/ipykernel_49674/736285137.py:34: RuntimeWarning: overflow encountered in exp\n",
      "  return 1 / (np.exp(beta*E) + 1 )\n"
     ]
    },
    {
     "name": "stdout",
     "output_type": "stream",
     "text": [
      "time_scf : 0.0時間1.0分36.57392406463623秒\n"
     ]
    },
    {
     "data": {
      "text/plain": [
       "<function matplotlib.pyplot.clf()>"
      ]
     },
     "execution_count": 14,
     "metadata": {},
     "output_type": "execute_result"
    },
    {
     "data": {
      "image/png": "[encoded data removed]",
      "text/plain": [
       "<Figure size 640x480 with 1 Axes>"
      ]
     },
     "metadata": {},
     "output_type": "display_data"
    }
   ],
   "source": [
    "import numpy as np\n",
    "from numpy import *\n",
    "import matplotlib.pyplot as plt\n",
    "from time import time\n",
    "#from scipy.integrate import quad\n",
    "\n",
    "###################################################################################################################\n",
    "##パラメータの調整\n",
    "n_N = 100\n",
    "Ns = 500 * (arange(n_N) /n_N)\n",
    "V, t, mu, gu, n0, n1, n2 =1, 1, 0, 1, 1, 1, 1    # 7.525 #9.21\n",
    "qs   = np.linspace(0,0.1,n0)  #(np.pi/a)\n",
    "Bs   = np.linspace(0.0,0.1,n1)     #np.linspace(0,0.08,n1)\n",
    "kBTs = np.linspace(0.001,0.2,n2)\n",
    "\n",
    "###################################################################################################################\n",
    "## gap_eq をdef\n",
    "def e_k_spin(k1, k2, q, y, B): \n",
    "    return 2*t*(np.cos((k1+q/2))+np.cos((k2))) - mu + y * 1/2 * gu * B\n",
    "\n",
    "def e_k_s(k1, k2, q, B):\n",
    "    return (e_k_spin(k1, k2, q, 1, B) + e_k_spin(-1*k1, k2, q, -1, B))/2\n",
    "\n",
    "def e_k_a(k1, k2, q, B):\n",
    "    return (e_k_spin(k1, k2, q, 1, B) - e_k_spin(-1*k1, k2, q, -1, B))/2\n",
    "\n",
    "def E_k_q(k1, k2, gap, q, B):\n",
    "    return np.sqrt(e_k_s(k1, k2, q, B)**2 + gap**2)\n",
    "\n",
    "def E_k_q_s(k1, k2, gap, q, y, B):\n",
    "    return E_k_q(k1, k2, gap, q, B) + y * e_k_a(k1, k2, q, B)\n",
    "\n",
    "def Fermi(beta, E):\n",
    "    return 1 / (np.exp(beta*E) + 1 )\n",
    "\n",
    "def func(k1, k2, gap, q, B): \n",
    "    return gap*(1-Fermi(beta, E_k_q_s(k1, k2, gap, q, -1, B))-Fermi(beta, E_k_q_s(k1, k2, gap, q, 1, B)))/(2*E_k_q(k1, k2, gap, q, B))\n",
    "\n",
    "def rhs(gap, q, B):\n",
    "    k1 = -1 * np.pi + 2 * arange(N) * np.pi / (N)\n",
    "    kx, ky = meshgrid(k1, k1, indexing='ij')\n",
    "    f = func(kx, ky, gap, q, B)\n",
    "    return (V / (N**2)) * sum(f)\n",
    "\n",
    "###################################################################################################################\n",
    "##ギャップの逐次計算\n",
    "time_scf_start = time()\n",
    "\n",
    "ans = []\n",
    "for i_N in range(n_N):\n",
    "    ans_0 = []\n",
    "    for h in range(n0):\n",
    "        ans0 = []\n",
    "        for i in range(n1):\n",
    "            ans1 = []\n",
    "            for j in range(n2): # それぞれの温度で秩序パラメータを計算\n",
    "                beta, d0, N = 1/kBTs[j], 100.0, Ns[i_N]\n",
    "                for k in range(1000): # 収束するまで最大1000回ループ\n",
    "                    d1 = rhs(d0, qs[h], Bs[i]) \n",
    "                    if abs(d1-d0) < 1e-10: break # 収束チェック\n",
    "                    d0 = d1\n",
    "                ans1.append([d0, abs(d1-d0), k])\n",
    "            ans0.append(ans1)\n",
    "        ans_0.append(ans0)\n",
    "    ans.append(ans_0)\n",
    "ans = np.array(ans)\n",
    "\n",
    "time_scf_finish = time()\n",
    "time_scf = time_scf_finish - time_scf_start \n",
    "print(\"time_scf : \" + str(time_scf//3600) + \"時間\" + str((time_scf%3600)//60) +\"分\" + str(time_scf%60) + \"秒\")\n",
    "\n",
    "###################################################################################################################\n",
    "\n",
    "plt.scatter(Ns, ans[:,0,0,0,0])\n",
    "plt.savefig(\"output/N_converge_1D_mu_-0.1\")\n",
    "plt.clf\n",
    "\n"
   ]
  }
 ],
 "metadata": {
  "kernelspec": {
   "display_name": "Python 3",
   "language": "python",
   "name": "python3"
  },
  "language_info": {
   "codemirror_mode": {
    "name": "ipython",
    "version": 3
   },
   "file_extension": ".py",
   "mimetype": "text/x-python",
   "name": "python",
   "nbconvert_exporter": "python",
   "pygments_lexer": "ipython3",
   "version": "3.11.3"
  },
  "orig_nbformat": 4
 },
 "nbformat": 4,
 "nbformat_minor": 2
}
