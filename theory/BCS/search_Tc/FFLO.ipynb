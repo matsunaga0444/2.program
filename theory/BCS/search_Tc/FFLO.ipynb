{
 "cells": [
  {
   "cell_type": "code",
   "execution_count": 17,
   "metadata": {},
   "outputs": [
    {
     "name": "stdout",
     "output_type": "stream",
     "text": [
      "time_binary_search : 0.0時間2.0分30.59050226211548秒\n"
     ]
    }
   ],
   "source": [
    "import numpy as np\n",
    "from numpy import *\n",
    "import matplotlib.pyplot as plt\n",
    "from time import time\n",
    "#from scipy.integrate import quad\n",
    "\n",
    "###################################################################################################################\n",
    "##パラメータの調整\n",
    "N, V, t, mu, n_search, n_scf, error, check_gap =100, 1, 1, 0, 100, 1000, 1e-10, 1e-6    # 7.525 #9.21\n",
    "kBTs = np.linspace(0.03,0.035,2)\n",
    "q  = 0.005833333333333334\n",
    "\n",
    "###################################################################################################################\n",
    "## gap_eq をdef\n",
    "\n",
    "def e_k_spin(k1, k2, q, y, B): \n",
    "    return 2*t*(np.cos((k1+(q/2)*np.pi))+np.cos((k2))) - mu \n",
    "    #return 2*t*(np.cos((k1+(q/2)))+np.cos((k2))) - mu + y * 1/2 * gu * B\n",
    "\n",
    "def e_k_s(k1, k2, q, B):\n",
    "    return (e_k_spin(k1, k2, q, 1, B) + e_k_spin(-1*k1, k2, q, -1, B))/2\n",
    "\n",
    "def e_k_a(k1, k2, q, B):\n",
    "    return (e_k_spin(k1, k2, q, 1, B) - e_k_spin(-1*k1, k2, q, -1, B))/2\n",
    "\n",
    "def E_k_q(k1, k2, gap, q, B):\n",
    "    return np.sqrt(e_k_s(k1, k2, q, B)**2 + gap**2)\n",
    "\n",
    "def E_k_q_s(k1, k2, gap, q, y, B):\n",
    "    return E_k_q(k1, k2, gap, q, B) + y * e_k_a(k1, k2, q, B)\n",
    "\n",
    "def Fermi(beta, E):\n",
    "    #return  1 / (np.exp(beta*E) + 1 )\n",
    "    return (1 - np.tanh(beta*E/2)) /2\n",
    "\n",
    "def func(k1, k2, gap, q, B): \n",
    "    return gap*(1-Fermi(beta, E_k_q_s(k1, k2, gap, q, -1, B))-Fermi(beta, E_k_q_s(k1, k2, gap, q, 1, B)))/(2*E_k_q(k1, k2, gap, q, B))\n",
    "\n",
    "def rhs(gap, q, B):\n",
    "    k1 = -1 * np.pi + 2 * arange(N) * np.pi / (N)\n",
    "    kx, ky = meshgrid(k1, k1, indexing='ij')\n",
    "    f = func(kx, ky, gap, q, B)\n",
    "    return (V / (N**2)) * sum(f)\n",
    "\n",
    "#search_TC\n",
    "time_binary_search_start = time()\n",
    "\n",
    "kBT_a = kBTs[0]\n",
    "kBT_b = kBTs[1]\n",
    "\n",
    "ans1 = []\n",
    "for j in range(n_search):\n",
    "    kBT = (kBT_a+kBT_b)/2\n",
    "    beta, d0 = 1/kBT, 100.0\n",
    "    for k in range(1000): # 収束するまで最大1000回ループ\n",
    "        d1 = rhs(d0, q, 0) \n",
    "        if abs(d1-d0) < error: break # 収束チェック\n",
    "        d0 = d1\n",
    "    ans1.append([kBT, d0, abs(d1-d0), k])\n",
    "    if d0 < check_gap: \n",
    "        kBT_b =  (kBT_a + kBT_b) /2\n",
    "    if d0 > check_gap: \n",
    "        kBT_a =  (kBT_a + kBT_b) /2   \n",
    "\n",
    "time_binary_search_finish = time()\n",
    "\n",
    "file = open(\"./output/kBT_gap_error_iter\" + \"_N_\" + str(N) + \"_V_\" + str(V) + \"_mu_\" + str(mu) + \"_t_\" + str(t) + \"_check_gap_\" + str(check_gap) + \"_kBT_[\" + str(kBTs[0]) + \",\" + str(kBTs[-1]) + \"]_n_serach_\" + str(n_search) + \"_q_\" + str(q)  ,\"w\") \n",
    "for i in range(n_search):\n",
    "        file.write(str(ans1[i][0]) + \" \" + str(ans1[i][1]) + \" \" + str(ans1[i][2]) + \" \" + str(ans1[i][3]) + \" \" +  \"\\n\")\n",
    "file.close()\n",
    "\n",
    "time_binary_search = time_binary_search_finish - time_binary_search_start\n",
    "print(\"time_binary_search : \" + str(time_binary_search//3600) + \"時間\" + str((time_binary_search%3600)//60) +\"分\" + str(time_binary_search%60) + \"秒\")\n"
   ]
  }
 ],
 "metadata": {
  "kernelspec": {
   "display_name": "Python 3",
   "language": "python",
   "name": "python3"
  },
  "language_info": {
   "codemirror_mode": {
    "name": "ipython",
    "version": 3
   },
   "file_extension": ".py",
   "mimetype": "text/x-python",
   "name": "python",
   "nbconvert_exporter": "python",
   "pygments_lexer": "ipython3",
   "version": "3.11.3"
  },
  "orig_nbformat": 4
 },
 "nbformat": 4,
 "nbformat_minor": 2
}
