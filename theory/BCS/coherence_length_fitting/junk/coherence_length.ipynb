{
 "cells": [
  {
   "cell_type": "code",
   "execution_count": 18,
   "metadata": {},
   "outputs": [
    {
     "name": "stdout",
     "output_type": "stream",
     "text": [
      "1687357364.2681432\n",
      "1687357364.268884\n",
      "1687357364.269184\n"
     ]
    },
    {
     "name": "stderr",
     "output_type": "stream",
     "text": [
      "/var/folders/vf/842hmrqn18z65j0fs1m3p8200000gn/T/ipykernel_39759/642500977.py:25: RuntimeWarning: overflow encountered in exp\n",
      "  return 1 / (np.exp(beta*E) + 1 )\n"
     ]
    },
    {
     "name": "stdout",
     "output_type": "stream",
     "text": [
      "1687357388.913975\n"
     ]
    },
    {
     "name": "stderr",
     "output_type": "stream",
     "text": [
      "/var/folders/vf/842hmrqn18z65j0fs1m3p8200000gn/T/ipykernel_39759/642500977.py:37: RuntimeWarning: invalid value encountered in scalar divide\n",
      "  return (gap_0**2 - gap_q**2) / (gap_0**2*q**2)\n"
     ]
    },
    {
     "data": {
      "image/png": "[encoded data removed]",
      "text/plain": [
       "<Figure size 640x480 with 2 Axes>"
      ]
     },
     "metadata": {},
     "output_type": "display_data"
    },
    {
     "name": "stdout",
     "output_type": "stream",
     "text": [
      "1687357393.308529\n"
     ]
    }
   ],
   "source": [
    "import numpy as np\n",
    "from numpy import *\n",
    "import matplotlib.pyplot as plt\n",
    "from time import time\n",
    "\n",
    "print(time())\n",
    "\n",
    "## gap_eq をdef\n",
    "def e_k_spin(k1, k2, q, y, B): \n",
    "    return 2*t*(np.cos(a*(k1+q/2))+np.cos(a*(k2))) - u + y * 1/2 * gu * B\n",
    "\n",
    "def e_k_s(k1, k2, q, B):\n",
    "    return (e_k_spin(k1, k2, q, 1, B) + e_k_spin(-1*k1, k2, q, -1, B))/2\n",
    "\n",
    "def e_k_a(k1, k2, q, B):\n",
    "    return (e_k_spin(k1, k2, q, 1, B) - e_k_spin(-1*k1, k2, q, -1, B))/2\n",
    "\n",
    "def E_k_q(k1, k2, gap, q, B):\n",
    "    return np.sqrt(e_k_s(k1, k2, q, B)**2 + gap**2)\n",
    "\n",
    "def E_k_q_s(k1, k2, gap, q, y, B):\n",
    "    return E_k_q(k1, k2, gap, q, B) + y * e_k_a(k1, k2, q, B)\n",
    "\n",
    "def Fermi(beta, E):\n",
    "    return 1 / (np.exp(beta*E) + 1 )\n",
    "\n",
    "def func(k1, k2, gap, q, B): \n",
    "    return gap*(1-Fermi(beta, E_k_q_s(k1, k2, gap, q, -1, B))-Fermi(beta, E_k_q_s(k1, k2, gap, q, 1, B)))/(2*E_k_q(k1, k2, gap, q, B))\n",
    "\n",
    "def rhs(gap, q, B):\n",
    "    k1 = -1 * np.pi/a + 2 * arange(N) * np.pi / (a * N)\n",
    "    kx, ky = meshgrid(k1, k1, indexing='ij')\n",
    "    f = func(kx, ky, gap, q, B)\n",
    "    return (V / (N**2)) * sum(f)\n",
    "\n",
    "def coherence_length(gap_q, gap_0, q):\n",
    "    return (gap_0**2 - gap_q**2) / (gap_0**2*q**2)\n",
    "\n",
    "\n",
    "print(time())\n",
    "\n",
    "##パラメータの調整\n",
    "N, V, t, a, u, gu, n0, n1, n2 =30, 1, 1, 1, 0, 1, 6, 1, 90    # 7.525 #9.21\n",
    "qs   = np.linspace(0,0.1,n0)  #(np.pi/a)\n",
    "Bs   = np.linspace(0.0,0.1,n1)     #np.linspace(0,0.08,n1)\n",
    "kBTs = np.linspace(1e-5,0.04,n2)\n",
    "\n",
    "print(time())\n",
    "\n",
    "##ギャップの逐次計算\n",
    "ans = []\n",
    "for h in range(n0):\n",
    "    ans0 = []\n",
    "    for i in range(n1):\n",
    "        ans1 = []\n",
    "        for j in range(n2): # それぞれの温度で秩序パラメータを計算\n",
    "            beta, d0 = 1/kBTs[j], 100.0\n",
    "            for k in range(1000): # 収束するまで最大1000回ループ\n",
    "                d1 = rhs(d0, qs[h], Bs[i]) \n",
    "                if abs(d1-d0) < 1e-10: break # 収束チェック\n",
    "                d0 = d1\n",
    "            ans1.append([d0, abs(d1-d0), k])\n",
    "        ans0.append(ans1)\n",
    "    ans.append(ans0)\n",
    "ans = np.array(ans)\n",
    "\n",
    "print(time())\n",
    "\n",
    "##coherence_lengthの計算\n",
    "ans_c = []\n",
    "for h in range(n0):\n",
    "    ans0 = []\n",
    "    for i in range(n1):\n",
    "        ans1 = []\n",
    "        for j in range(n2): # それぞれの温度で秩序パラメータを計算\n",
    "            ans1.append(coherence_length(ans[h][i][j][0], ans[0][i][j][0], qs[h]))\n",
    "        ans0.append(ans1)\n",
    "    ans_c.append(ans0)\n",
    "ans_c = np.array(ans_c)\n",
    "\n",
    "\n",
    "for j in range(n2):    ##q,gap図\n",
    "    for i in range(n1):\n",
    "        ans_q = []\n",
    "        for h in range(n0):\n",
    "            figure = plt.scatter(kBTs[j], ans_c[h][i][j], 5, c=qs[h],  cmap='viridis' ,vmin=0, vmax=0.1)\n",
    "c= plt.colorbar()\n",
    "plt.savefig(\"FFLO_q-gap(N=100,B=0.04).png\")\n",
    "plt.show()\n",
    "\n",
    "print(time())"
   ]
  },
  {
   "cell_type": "code",
   "execution_count": null,
   "metadata": {},
   "outputs": [],
   "source": []
  }
 ],
 "metadata": {
  "kernelspec": {
   "display_name": "Python 3",
   "language": "python",
   "name": "python3"
  },
  "language_info": {
   "codemirror_mode": {
    "name": "ipython",
    "version": 3
   },
   "file_extension": ".py",
   "mimetype": "text/x-python",
   "name": "python",
   "nbconvert_exporter": "python",
   "pygments_lexer": "ipython3",
   "version": "3.9.6"
  },
  "orig_nbformat": 4
 },
 "nbformat": 4,
 "nbformat_minor": 2
}
