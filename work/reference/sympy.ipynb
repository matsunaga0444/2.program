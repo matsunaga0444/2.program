{
 "cells": [
  {
   "cell_type": "code",
   "execution_count": 1,
   "metadata": {},
   "outputs": [],
   "source": [
    "import sympy as sp"
   ]
  },
  {
   "cell_type": "code",
   "execution_count": 18,
   "metadata": {},
   "outputs": [],
   "source": [
    "x = sp.Symbol(\"x\"     , real=True)\n",
    "d = sp.Symbol(\"\\Delta\", real=True)\n",
    "T = sp.Symbol(\"T\"     , real=True)"
   ]
  },
  {
   "cell_type": "code",
   "execution_count": 40,
   "metadata": {},
   "outputs": [
    {
     "data": {
      "text/latex": [
       "$\\displaystyle e^{- \\frac{\\sqrt{\\Delta^{2} + x^{2}}}{T}}$"
      ],
      "text/plain": [
       "exp(-sqrt(\\Delta**2 + x**2)/T)"
      ]
     },
     "execution_count": 40,
     "metadata": {},
     "output_type": "execute_result"
    }
   ],
   "source": [
    "Exp = sp.exp(-(1/T) * sp.sqrt(x**2+d**2))\n",
    "Exp"
   ]
  },
  {
   "cell_type": "code",
   "execution_count": 5,
   "metadata": {},
   "outputs": [
    {
     "data": {
      "text/latex": [
       "$\\displaystyle \\Delta$"
      ],
      "text/plain": [
       "\\Delta"
      ]
     },
     "execution_count": 5,
     "metadata": {},
     "output_type": "execute_result"
    }
   ],
   "source": [
    "d"
   ]
  },
  {
   "cell_type": "code",
   "execution_count": 42,
   "metadata": {},
   "outputs": [
    {
     "data": {
      "text/latex": [
       "$\\displaystyle \\begin{cases} \\frac{\\Delta^{2}}{2} & \\text{for}\\: \\left(\\left|{\\arg{\\left(\\Delta \\right)}}\\right| < \\frac{\\pi}{2} \\wedge \\left|{\\arg{\\left(\\Delta \\right)}}\\right| \\neq \\frac{\\pi}{2}\\right) \\vee \\left|{\\arg{\\left(\\Delta \\right)}}\\right| < \\frac{\\pi}{2} \\\\\\int\\limits_{0}^{\\infty} \\frac{\\left(- x + \\sqrt{\\Delta^{2} + x^{2}}\\right)^{2}}{\\sqrt{\\Delta^{2} + x^{2}}}\\, dx & \\text{otherwise} \\end{cases}$"
      ],
      "text/plain": [
       "Piecewise((\\Delta**2/2, (Abs(arg(\\Delta)) < pi/2) | ((Abs(arg(\\Delta)) < pi/2) & Ne(Abs(arg(\\Delta)), pi/2))), (Integral((-x + sqrt(\\Delta**2 + x**2))**2/sqrt(\\Delta**2 + x**2), (x, 0, oo)), True))"
      ]
     },
     "execution_count": 42,
     "metadata": {},
     "output_type": "execute_result"
    }
   ],
   "source": [
    "sp.integrate((sp.sqrt(x**2+d**2) - x)**2/(sp.sqrt(x**2+d**2)), (x, 0, sp.oo))"
   ]
  },
  {
   "cell_type": "code",
   "execution_count": 23,
   "metadata": {},
   "outputs": [
    {
     "data": {
      "text/latex": [
       "$\\displaystyle \\log{\\left(\\left(e^{1.0 \\cdot 10^{36} \\sqrt{\\Delta^{2} + x^{2}}} + 1\\right) e^{- 1.0 \\cdot 10^{36} \\sqrt{\\Delta^{2} + x^{2}}} \\right)}$"
      ],
      "text/plain": [
       "log((exp(1.0e+36*sqrt(\\Delta**2 + x**2)) + 1)*exp(-1.0e+36*sqrt(\\Delta**2 + x**2)))"
      ]
     },
     "execution_count": 23,
     "metadata": {},
     "output_type": "execute_result"
    }
   ],
   "source": [
    "sp.limit(sp.log(1 + sp.exp(-(1/T) * sp.sqrt(x**2+d**2))), T, 1e-36)"
   ]
  },
  {
   "cell_type": "code",
   "execution_count": 24,
   "metadata": {},
   "outputs": [
    {
     "data": {
      "text/latex": [
       "$\\displaystyle - 1.0 \\cdot 10^{15} \\Delta \\sqrt{1 + \\frac{1000000}{\\Delta^{2}}} - 1000000000000.0 \\Delta \\left|{\\Delta}\\right| \\operatorname{asinh}{\\left(\\frac{1000}{\\left|{\\Delta}\\right|} \\right)} + 1.0 \\int\\limits_{-1000}^{1000} \\log{\\left(e^{1000000000000.0 \\sqrt{\\Delta^{2} + x^{2}}} + 1 \\right)}\\, dx$"
      ],
      "text/plain": [
       "-1.0e+15*\\Delta*sqrt(1 + 1000000/\\Delta**2) - 1000000000000.0*\\Delta*Abs(\\Delta)*asinh(1000/Abs(\\Delta)) + 1.0*Integral(log(exp(1000000000000.0*sqrt(\\Delta**2 + x**2)) + 1), (x, -1000, 1000))"
      ]
     },
     "execution_count": 24,
     "metadata": {},
     "output_type": "execute_result"
    }
   ],
   "source": [
    "sp.integrate(sp.limit(sp.log(1 + sp.exp(-(1/T) * sp.sqrt(x**2+d**2))), T, 1e-12), (x, -1000, 1000)).doit()"
   ]
  },
  {
   "cell_type": "code",
   "execution_count": null,
   "metadata": {},
   "outputs": [],
   "source": [
    "sp.integrate(sp.limit(sp.log(1 + Exp),T,0), (x, -sp.oo, sp.oo)).doit()"
   ]
  },
  {
   "cell_type": "code",
   "execution_count": 38,
   "metadata": {},
   "outputs": [
    {
     "ename": "NotImplementedError",
     "evalue": "Result depends on the sign of sign(sqrt(\\Delta**2 + x**2))",
     "output_type": "error",
     "traceback": [
      "\u001b[0;31m---------------------------------------------------------------------------\u001b[0m",
      "\u001b[0;31mNotImplementedError\u001b[0m                       Traceback (most recent call last)",
      "\u001b[1;32mUntitled-1.ipynb セル 8\u001b[0m line \u001b[0;36m1\n\u001b[0;32m----> <a href='vscode-notebook-cell:Untitled-1.ipynb?jupyter-notebook#X14sdW50aXRsZWQ%3D?line=0'>1</a>\u001b[0m sp\u001b[39m.\u001b[39mlimit(sp\u001b[39m.\u001b[39mlog(Exp\u001b[39m*\u001b[39m\u001b[39m*\u001b[39m(\u001b[39m-\u001b[39m\u001b[39m1\u001b[39m) \u001b[39m+\u001b[39m \u001b[39m1\u001b[39m),T,\u001b[39m0\u001b[39m)\n",
      "File \u001b[0;32m/opt/homebrew/anaconda3/lib/python3.11/site-packages/sympy/series/limits.py:64\u001b[0m, in \u001b[0;36mlimit\u001b[0;34m(e, z, z0, dir)\u001b[0m\n\u001b[1;32m     13\u001b[0m \u001b[39mdef\u001b[39;00m \u001b[39mlimit\u001b[39m(e, z, z0, \u001b[39mdir\u001b[39m\u001b[39m=\u001b[39m\u001b[39m\"\u001b[39m\u001b[39m+\u001b[39m\u001b[39m\"\u001b[39m):\n\u001b[1;32m     14\u001b[0m \u001b[39m    \u001b[39m\u001b[39m\"\"\"Computes the limit of ``e(z)`` at the point ``z0``.\u001b[39;00m\n\u001b[1;32m     15\u001b[0m \n\u001b[1;32m     16\u001b[0m \u001b[39m    Parameters\u001b[39;00m\n\u001b[0;32m   (...)\u001b[0m\n\u001b[1;32m     61\u001b[0m \u001b[39m     limit_seq : returns the limit of a sequence.\u001b[39;00m\n\u001b[1;32m     62\u001b[0m \u001b[39m    \"\"\"\u001b[39;00m\n\u001b[0;32m---> 64\u001b[0m     \u001b[39mreturn\u001b[39;00m Limit(e, z, z0, \u001b[39mdir\u001b[39m)\u001b[39m.\u001b[39mdoit(deep\u001b[39m=\u001b[39m\u001b[39mFalse\u001b[39;00m)\n",
      "File \u001b[0;32m/opt/homebrew/anaconda3/lib/python3.11/site-packages/sympy/series/limits.py:362\u001b[0m, in \u001b[0;36mLimit.doit\u001b[0;34m(self, **hints)\u001b[0m\n\u001b[1;32m    358\u001b[0m         \u001b[39mraise\u001b[39;00m \u001b[39mValueError\u001b[39;00m(\u001b[39m\"\u001b[39m\u001b[39mThe limit does not exist since \u001b[39m\u001b[39m\"\u001b[39m\n\u001b[1;32m    359\u001b[0m                 \u001b[39m\"\u001b[39m\u001b[39mleft hand limit = \u001b[39m\u001b[39m%s\u001b[39;00m\u001b[39m and right hand limit = \u001b[39m\u001b[39m%s\u001b[39;00m\u001b[39m\"\u001b[39m\n\u001b[1;32m    360\u001b[0m                 \u001b[39m%\u001b[39m (l, r))\n\u001b[1;32m    361\u001b[0m \u001b[39melse\u001b[39;00m:\n\u001b[0;32m--> 362\u001b[0m     r \u001b[39m=\u001b[39m gruntz(e, z, z0, \u001b[39mdir\u001b[39m)\n\u001b[1;32m    363\u001b[0m \u001b[39mif\u001b[39;00m r \u001b[39mis\u001b[39;00m S\u001b[39m.\u001b[39mNaN \u001b[39mor\u001b[39;00m l \u001b[39mis\u001b[39;00m S\u001b[39m.\u001b[39mNaN:\n\u001b[1;32m    364\u001b[0m     \u001b[39mraise\u001b[39;00m PoleError()\n",
      "File \u001b[0;32m/opt/homebrew/anaconda3/lib/python3.11/site-packages/sympy/series/gruntz.py:711\u001b[0m, in \u001b[0;36mgruntz\u001b[0;34m(e, z, z0, dir)\u001b[0m\n\u001b[1;32m    708\u001b[0m         \u001b[39mraise\u001b[39;00m \u001b[39mNotImplementedError\u001b[39;00m(\u001b[39m\"\u001b[39m\u001b[39mdir must be \u001b[39m\u001b[39m'\u001b[39m\u001b[39m+\u001b[39m\u001b[39m'\u001b[39m\u001b[39m or \u001b[39m\u001b[39m'\u001b[39m\u001b[39m-\u001b[39m\u001b[39m'\u001b[39m\u001b[39m\"\u001b[39m)\n\u001b[1;32m    710\u001b[0m \u001b[39mtry\u001b[39;00m:\n\u001b[0;32m--> 711\u001b[0m     r \u001b[39m=\u001b[39m limitinf(e0, z)\n\u001b[1;32m    712\u001b[0m \u001b[39mexcept\u001b[39;00m \u001b[39mValueError\u001b[39;00m:\n\u001b[1;32m    713\u001b[0m     r \u001b[39m=\u001b[39m limitinf(e0, z, leadsimp\u001b[39m=\u001b[39m\u001b[39mTrue\u001b[39;00m)\n",
      "File \u001b[0;32m/opt/homebrew/anaconda3/lib/python3.11/site-packages/sympy/core/cache.py:70\u001b[0m, in \u001b[0;36m__cacheit.<locals>.func_wrapper.<locals>.wrapper\u001b[0;34m(*args, **kwargs)\u001b[0m\n\u001b[1;32m     67\u001b[0m \u001b[39m@wraps\u001b[39m(func)\n\u001b[1;32m     68\u001b[0m \u001b[39mdef\u001b[39;00m \u001b[39mwrapper\u001b[39m(\u001b[39m*\u001b[39margs, \u001b[39m*\u001b[39m\u001b[39m*\u001b[39mkwargs):\n\u001b[1;32m     69\u001b[0m     \u001b[39mtry\u001b[39;00m:\n\u001b[0;32m---> 70\u001b[0m         retval \u001b[39m=\u001b[39m cfunc(\u001b[39m*\u001b[39margs, \u001b[39m*\u001b[39m\u001b[39m*\u001b[39mkwargs)\n\u001b[1;32m     71\u001b[0m     \u001b[39mexcept\u001b[39;00m \u001b[39mTypeError\u001b[39;00m \u001b[39mas\u001b[39;00m e:\n\u001b[1;32m     72\u001b[0m         \u001b[39mif\u001b[39;00m \u001b[39mnot\u001b[39;00m e\u001b[39m.\u001b[39margs \u001b[39mor\u001b[39;00m \u001b[39mnot\u001b[39;00m e\u001b[39m.\u001b[39margs[\u001b[39m0\u001b[39m]\u001b[39m.\u001b[39mstartswith(\u001b[39m'\u001b[39m\u001b[39munhashable type:\u001b[39m\u001b[39m'\u001b[39m):\n",
      "File \u001b[0;32m/opt/homebrew/anaconda3/lib/python3.11/site-packages/sympy/series/gruntz.py:452\u001b[0m, in \u001b[0;36mlimitinf\u001b[0;34m(e, x, leadsimp)\u001b[0m\n\u001b[1;32m    450\u001b[0m e \u001b[39m=\u001b[39m e\u001b[39m.\u001b[39mrewrite(\u001b[39m'\u001b[39m\u001b[39mtractable\u001b[39m\u001b[39m'\u001b[39m, deep\u001b[39m=\u001b[39m\u001b[39mTrue\u001b[39;00m, limitvar\u001b[39m=\u001b[39mx)\n\u001b[1;32m    451\u001b[0m e \u001b[39m=\u001b[39m powdenest(e)\n\u001b[0;32m--> 452\u001b[0m c0, e0 \u001b[39m=\u001b[39m mrv_leadterm(e, x)\n\u001b[1;32m    453\u001b[0m sig \u001b[39m=\u001b[39m sign(e0, x)\n\u001b[1;32m    454\u001b[0m \u001b[39mif\u001b[39;00m sig \u001b[39m==\u001b[39m \u001b[39m1\u001b[39m:\n",
      "File \u001b[0;32m/opt/homebrew/anaconda3/lib/python3.11/site-packages/sympy/core/cache.py:70\u001b[0m, in \u001b[0;36m__cacheit.<locals>.func_wrapper.<locals>.wrapper\u001b[0;34m(*args, **kwargs)\u001b[0m\n\u001b[1;32m     67\u001b[0m \u001b[39m@wraps\u001b[39m(func)\n\u001b[1;32m     68\u001b[0m \u001b[39mdef\u001b[39;00m \u001b[39mwrapper\u001b[39m(\u001b[39m*\u001b[39margs, \u001b[39m*\u001b[39m\u001b[39m*\u001b[39mkwargs):\n\u001b[1;32m     69\u001b[0m     \u001b[39mtry\u001b[39;00m:\n\u001b[0;32m---> 70\u001b[0m         retval \u001b[39m=\u001b[39m cfunc(\u001b[39m*\u001b[39margs, \u001b[39m*\u001b[39m\u001b[39m*\u001b[39mkwargs)\n\u001b[1;32m     71\u001b[0m     \u001b[39mexcept\u001b[39;00m \u001b[39mTypeError\u001b[39;00m \u001b[39mas\u001b[39;00m e:\n\u001b[1;32m     72\u001b[0m         \u001b[39mif\u001b[39;00m \u001b[39mnot\u001b[39;00m e\u001b[39m.\u001b[39margs \u001b[39mor\u001b[39;00m \u001b[39mnot\u001b[39;00m e\u001b[39m.\u001b[39margs[\u001b[39m0\u001b[39m]\u001b[39m.\u001b[39mstartswith(\u001b[39m'\u001b[39m\u001b[39munhashable type:\u001b[39m\u001b[39m'\u001b[39m):\n",
      "File \u001b[0;32m/opt/homebrew/anaconda3/lib/python3.11/site-packages/sympy/series/gruntz.py:546\u001b[0m, in \u001b[0;36mmrv_leadterm\u001b[0;34m(e, x)\u001b[0m\n\u001b[1;32m    538\u001b[0m \u001b[39m#\u001b[39;00m\n\u001b[1;32m    539\u001b[0m \u001b[39m# The positive dummy, w, is used here so log(w*2) etc. will expand;\u001b[39;00m\n\u001b[1;32m    540\u001b[0m \u001b[39m# a unique dummy is needed in this algorithm\u001b[39;00m\n\u001b[0;32m   (...)\u001b[0m\n\u001b[1;32m    543\u001b[0m \u001b[39m# improved, or just find limits of Re and Im components separately.\u001b[39;00m\n\u001b[1;32m    544\u001b[0m \u001b[39m#\u001b[39;00m\n\u001b[1;32m    545\u001b[0m w \u001b[39m=\u001b[39m Dummy(\u001b[39m\"\u001b[39m\u001b[39mw\u001b[39m\u001b[39m\"\u001b[39m, positive\u001b[39m=\u001b[39m\u001b[39mTrue\u001b[39;00m)\n\u001b[0;32m--> 546\u001b[0m f, logw \u001b[39m=\u001b[39m rewrite(exps, Omega, x, w)\n\u001b[1;32m    547\u001b[0m series \u001b[39m=\u001b[39m calculate_series(f, w, logx\u001b[39m=\u001b[39mlogw)\n\u001b[1;32m    548\u001b[0m \u001b[39mtry\u001b[39;00m:\n",
      "File \u001b[0;32m/opt/homebrew/anaconda3/lib/python3.11/site-packages/sympy/series/gruntz.py:631\u001b[0m, in \u001b[0;36mrewrite\u001b[0;34m(e, Omega, x, wsym)\u001b[0m\n\u001b[1;32m    629\u001b[0m     sig \u001b[39m=\u001b[39m sign(g\u001b[39m.\u001b[39mexp, x)\n\u001b[1;32m    630\u001b[0m     \u001b[39mif\u001b[39;00m sig \u001b[39m!=\u001b[39m \u001b[39m1\u001b[39m \u001b[39mand\u001b[39;00m sig \u001b[39m!=\u001b[39m \u001b[39m-\u001b[39m\u001b[39m1\u001b[39m:\n\u001b[0;32m--> 631\u001b[0m         \u001b[39mraise\u001b[39;00m \u001b[39mNotImplementedError\u001b[39;00m(\u001b[39m'\u001b[39m\u001b[39mResult depends on the sign of \u001b[39m\u001b[39m%s\u001b[39;00m\u001b[39m'\u001b[39m \u001b[39m%\u001b[39m sig)\n\u001b[1;32m    632\u001b[0m \u001b[39mif\u001b[39;00m sig \u001b[39m==\u001b[39m \u001b[39m1\u001b[39m:\n\u001b[1;32m    633\u001b[0m     wsym \u001b[39m=\u001b[39m \u001b[39m1\u001b[39m\u001b[39m/\u001b[39mwsym  \u001b[39m# if g goes to oo, substitute 1/w\u001b[39;00m\n",
      "\u001b[0;31mNotImplementedError\u001b[0m: Result depends on the sign of sign(sqrt(\\Delta**2 + x**2))"
     ]
    }
   ],
   "source": [
    "sp.limit(sp.log(Exp**(-1) + 1),T,0)"
   ]
  },
  {
   "cell_type": "code",
   "execution_count": null,
   "metadata": {},
   "outputs": [],
   "source": []
  }
 ],
 "metadata": {
  "kernelspec": {
   "display_name": "base",
   "language": "python",
   "name": "python3"
  },
  "language_info": {
   "codemirror_mode": {
    "name": "ipython",
    "version": 3
   },
   "file_extension": ".py",
   "mimetype": "text/x-python",
   "name": "python",
   "nbconvert_exporter": "python",
   "pygments_lexer": "ipython3",
   "version": "3.11.4"
  }
 },
 "nbformat": 4,
 "nbformat_minor": 2
}
